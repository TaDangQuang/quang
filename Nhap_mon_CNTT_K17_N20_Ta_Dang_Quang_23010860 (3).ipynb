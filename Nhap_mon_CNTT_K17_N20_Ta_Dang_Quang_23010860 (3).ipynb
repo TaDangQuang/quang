{
  "nbformat": 4,
  "nbformat_minor": 0,
  "metadata": {
    "colab": {
      "provenance": []
    },
    "kernelspec": {
      "name": "python3",
      "display_name": "Python 3"
    },
    "language_info": {
      "name": "python"
    }
  },
  "cells": [
    {
      "cell_type": "markdown",
      "source": [
        "Bài E"
      ],
      "metadata": {
        "id": "J7wYJXcL_vBl"
      }
    },
    {
      "cell_type": "code",
      "source": [
        "n=int(input())\n",
        "print(n)"
      ],
      "metadata": {
        "colab": {
          "base_uri": "https://localhost:8080/"
        },
        "id": "RRJX-mAF_31B",
        "outputId": "36da279f-10df-4364-fd19-da45ea79ec9c"
      },
      "execution_count": null,
      "outputs": [
        {
          "output_type": "stream",
          "name": "stdout",
          "text": [
            "698\n",
            "698\n"
          ]
        }
      ]
    },
    {
      "cell_type": "markdown",
      "source": [
        "Bài F"
      ],
      "metadata": {
        "id": "iiW-YEIXAWDX"
      }
    },
    {
      "cell_type": "code",
      "source": [
        "n=int(input())\n",
        "m=int(input())\n",
        "i=n % m\n",
        "print(\"i=\", i)\n"
      ],
      "metadata": {
        "colab": {
          "base_uri": "https://localhost:8080/"
        },
        "id": "5Qk6Q-vNAYpu",
        "outputId": "fa878462-e0bd-4981-edb8-dba2e8af24d8"
      },
      "execution_count": null,
      "outputs": [
        {
          "output_type": "stream",
          "name": "stdout",
          "text": [
            "20\n",
            "4\n",
            "i= 0\n"
          ]
        }
      ]
    },
    {
      "cell_type": "markdown",
      "source": [
        "Bài G"
      ],
      "metadata": {
        "id": "G421hmDfCRid"
      }
    },
    {
      "cell_type": "code",
      "source": [
        "import math\n",
        "n=int(input())\n",
        "m=math.sqrt(n)\n",
        "print(\"m=)"
      ],
      "metadata": {
        "colab": {
          "base_uri": "https://localhost:8080/"
        },
        "id": "kZ2Rh-oOCVxQ",
        "outputId": "ed0ea63e-1c05-434b-aa57-e64527e215c4"
      },
      "execution_count": null,
      "outputs": [
        {
          "output_type": "stream",
          "name": "stdout",
          "text": [
            "3249\n",
            "m= 57.0\n"
          ]
        }
      ]
    },
    {
      "cell_type": "markdown",
      "source": [
        "Bài H"
      ],
      "metadata": {
        "id": "jFbQK3o_C_3Y"
      }
    },
    {
      "cell_type": "code",
      "source": [
        "import math\n",
        "n=int(input())\n",
        "if n%2==0:\n",
        " print('Yes')\n",
        "else:\n",
        " print('No')\n"
      ],
      "metadata": {
        "colab": {
          "base_uri": "https://localhost:8080/"
        },
        "id": "QUSyoVFuDK0R",
        "outputId": "a4f0a913-cf20-4038-cde2-1d9d0d466292"
      },
      "execution_count": null,
      "outputs": [
        {
          "output_type": "stream",
          "name": "stdout",
          "text": [
            "23\n",
            "No\n"
          ]
        }
      ]
    },
    {
      "cell_type": "markdown",
      "source": [
        "Bài i"
      ],
      "metadata": {
        "id": "Zh1qjCUYHIFR"
      }
    },
    {
      "cell_type": "code",
      "source": [
        "n=int(input())\n",
        "check=False\n",
        "for i in range(1,n+1):\n",
        "  if(i**2==n):\n",
        "      check=True\n",
        "      break\n",
        "if(check==True ):\n",
        "   print(\"Yes\")\n",
        "else:\n",
        "    print(\"No\")\n"
      ],
      "metadata": {
        "id": "hdj4FQScF07C",
        "colab": {
          "base_uri": "https://localhost:8080/"
        },
        "outputId": "91ad8334-633d-40ea-833b-5992257358ff"
      },
      "execution_count": null,
      "outputs": [
        {
          "output_type": "stream",
          "name": "stdout",
          "text": [
            "49\n",
            "Yes\n"
          ]
        }
      ]
    },
    {
      "cell_type": "markdown",
      "source": [
        "Bài D"
      ],
      "metadata": {
        "id": "PLetlhS5Isxq"
      }
    },
    {
      "cell_type": "code",
      "source": [
        "\n",
        "n=int(input())\n",
        "m=int(input())\n",
        "i=n % m\n",
        "print(\"i=\", i)"
      ],
      "metadata": {
        "id": "pO9ncc3jIu8i",
        "colab": {
          "base_uri": "https://localhost:8080/"
        },
        "outputId": "9782bae5-f700-4125-fee1-5459ab9a885e"
      },
      "execution_count": null,
      "outputs": [
        {
          "output_type": "stream",
          "name": "stdout",
          "text": [
            "12\n",
            "2\n",
            "i= 0\n"
          ]
        }
      ]
    },
    {
      "cell_type": "code",
      "source": [
        "#min max\n",
        "a,b,c=map(int,input().split())\n",
        "print(min(a,b,c),max(a,b,c))"
      ],
      "metadata": {
        "id": "uZFOr2B4L27D",
        "colab": {
          "base_uri": "https://localhost:8080/"
        },
        "outputId": "b79fc897-6b29-4891-8b77-96f74a38d839"
      },
      "execution_count": null,
      "outputs": [
        {
          "output_type": "stream",
          "name": "stdout",
          "text": [
            "12 34 67\n",
            "12 67\n"
          ]
        }
      ]
    },
    {
      "cell_type": "code",
      "source": [
        "# Bài M\n",
        "n=input()\n",
        "ai=list(map(int,input().split()))\n",
        "for i in range(len(ai)):\n",
        "  print(ai[i],end=' ')\n"
      ],
      "metadata": {
        "colab": {
          "base_uri": "https://localhost:8080/"
        },
        "outputId": "0e6d6348-66e2-4be9-aec8-65d5e969c9c1",
        "id": "oNevzAehiii_"
      },
      "execution_count": null,
      "outputs": [
        {
          "output_type": "stream",
          "name": "stdout",
          "text": [
            "5\n",
            "12 34 56 78 12 \n",
            "12 34 56 78 12 "
          ]
        }
      ]
    },
    {
      "cell_type": "code",
      "source": [
        "#tong n số nguyên\n",
        "tong=0\n",
        "n=int(input())\n",
        "for i in range(1,n+1):\n",
        "    tong=tong+i\n",
        "print(tong)\n",
        "\n",
        "\n"
      ],
      "metadata": {
        "id": "oKVj8QdrWf55",
        "colab": {
          "base_uri": "https://localhost:8080/"
        },
        "outputId": "5209179d-03bf-4d9d-f07b-10ac4303b31b"
      },
      "execution_count": null,
      "outputs": [
        {
          "output_type": "stream",
          "name": "stdout",
          "text": [
            "23\n",
            "276\n"
          ]
        }
      ]
    },
    {
      "cell_type": "code",
      "source": [
        "a,b=map(int,input().split())\n",
        "c,d=map(int,input().split())\n",
        "e,f=map(int,input().split())\n"
      ],
      "metadata": {
        "id": "XLzogambioFY"
      },
      "execution_count": null,
      "outputs": []
    },
    {
      "cell_type": "code",
      "source": [
        "x=int(input())\n",
        "for i in range(2,x):\n",
        "  if x % i == 0:\n",
        "    print('khong')\n",
        "    break\n",
        "else:\n",
        "   print('co')\n",
        "\n"
      ],
      "metadata": {
        "colab": {
          "base_uri": "https://localhost:8080/"
        },
        "id": "lLFHZ1onlZYk",
        "outputId": "3421978c-82d3-4cb3-c9cf-92d8d69163ec"
      },
      "execution_count": null,
      "outputs": [
        {
          "output_type": "stream",
          "name": "stdout",
          "text": [
            "31\n",
            "co\n"
          ]
        }
      ]
    },
    {
      "cell_type": "code",
      "source": [
        "n = int(input())\n",
        "for i in range(2, n):\n",
        "  if n % i == 0:\n",
        "        print(\"khong\")\n",
        "        break\n",
        "else:\n",
        "    print(\"co\")"
      ],
      "metadata": {
        "colab": {
          "base_uri": "https://localhost:8080/"
        },
        "id": "RbMgFTdwrr77",
        "outputId": "bf60185b-56e3-479a-833e-604ae12cecec"
      },
      "execution_count": null,
      "outputs": [
        {
          "output_type": "stream",
          "name": "stdout",
          "text": [
            "12\n",
            "khong\n"
          ]
        }
      ]
    },
    {
      "cell_type": "code",
      "source": [
        "n=10\n",
        "n1,n2=map(int,input().split())\n",
        "while (n1 <=n**2 -100*n+ 1<= n2):\n",
        "  n=n+1\n",
        "print(n-1)\n",
        "\n",
        "\n"
      ],
      "metadata": {
        "id": "ogxHK28r-GGp"
      },
      "execution_count": null,
      "outputs": []
    },
    {
      "cell_type": "code",
      "source": [
        "n=int(input())\n",
        "def fibo(n):\n",
        "  if n==0 or n==1:\n",
        "    return n\n",
        "  else:\n",
        "     return fibo(n-1) + fibo(n-2)\n",
        "print(fibo(n))"
      ],
      "metadata": {
        "colab": {
          "base_uri": "https://localhost:8080/"
        },
        "id": "4BVph_kPCuYc",
        "outputId": "0d413ef4-0815-4ee0-828a-04e8953366f0"
      },
      "execution_count": null,
      "outputs": [
        {
          "output_type": "stream",
          "name": "stdout",
          "text": [
            "10\n",
            "55\n"
          ]
        }
      ]
    },
    {
      "cell_type": "code",
      "source": [
        "A=[]\n",
        "m,n=map(int,input().split())\n",
        "for i in range(m):\n",
        "  hang_i=list(map(int,input().split()))\n",
        "  A.append(hang_i)\n",
        "for i in range(m):\n",
        "  for j in range(n):\n",
        "    if j!=n-1:\n",
        "      print(A[i][j], end= ' ')\n",
        "    else:\n",
        "      print(A[i][j])"
      ],
      "metadata": {
        "id": "hhGmeWTmFHrE"
      },
      "execution_count": null,
      "outputs": []
    },
    {
      "cell_type": "code",
      "source": [
        "fi=open('bai1.inp','r')\n",
        "n=int(fi.readline())\n",
        "list1=list(map(int,fi.readline().split()))\n",
        "fi.close\n",
        "fo=open('bai1.out','w')\n",
        "for i in range(n):\n",
        "        fo.write(str(list1[i]) + ' ')\n",
        "fo.close()"
      ],
      "metadata": {
        "id": "lKQ1WL5CVnIL"
      },
      "execution_count": null,
      "outputs": []
    }
  ]
}